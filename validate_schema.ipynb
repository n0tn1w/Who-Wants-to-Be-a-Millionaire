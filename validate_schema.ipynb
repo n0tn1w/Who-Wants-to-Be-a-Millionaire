{
 "cells": [
  {
   "cell_type": "code",
   "execution_count": 17,
   "metadata": {},
   "outputs": [
    {
     "name": "stdout",
     "output_type": "stream",
     "text": [
      "None\n"
     ]
    },
    {
     "data": {
      "text/plain": [
       "{'Question': [{'@QuestionId': 22,\n",
       "   '@Difficulty': 'Easy',\n",
       "   '@CallAFriendText': 'I think the correct answer is something to do with birds',\n",
       "   'Description': 'What animal can fly in the sky?',\n",
       "   'Answer': [{'@IsCorrect': False,\n",
       "     '@VotePercentage': 0,\n",
       "     '@IsShownInFiftyFifty': True,\n",
       "     '$': 'Option A'},\n",
       "    {'@IsCorrect': True,\n",
       "     '@VotePercentage': 80,\n",
       "     '@IsShownInFiftyFifty': False,\n",
       "     '$': 'Option B'},\n",
       "    {'@IsCorrect': False,\n",
       "     '@VotePercentage': 20,\n",
       "     '@IsShownInFiftyFifty': False,\n",
       "     '$': 'Option C'},\n",
       "    {'@IsCorrect': False,\n",
       "     '@VotePercentage': 0,\n",
       "     '@IsShownInFiftyFifty': True,\n",
       "     '$': 'Option D'}]},\n",
       "  {'@QuestionId': 21,\n",
       "   '@Difficulty': 'Hard',\n",
       "   '@CallAFriendText': 'I think the correct answer is something to do with animals',\n",
       "   'Description': 'What is a Dog?',\n",
       "   'Answer': [{'@IsCorrect': False,\n",
       "     '@VotePercentage': 30,\n",
       "     '@IsShownInFiftyFifty': True,\n",
       "     '$': 'Option AA'},\n",
       "    {'@IsCorrect': False,\n",
       "     '@VotePercentage': 40,\n",
       "     '@IsShownInFiftyFifty': False,\n",
       "     '$': 'Option BB'},\n",
       "    {'@IsCorrect': False,\n",
       "     '@VotePercentage': 15,\n",
       "     '@IsShownInFiftyFifty': False,\n",
       "     '$': 'Option CC'},\n",
       "    {'@IsCorrect': True,\n",
       "     '@VotePercentage': 15,\n",
       "     '@IsShownInFiftyFifty': True,\n",
       "     '$': 'Option DD'}]}]}"
      ]
     },
     "execution_count": 17,
     "metadata": {},
     "output_type": "execute_result"
    }
   ],
   "source": [
    "import xmlschema\n",
    "\n",
    "# To download use `pip install xmlschema`\n",
    "# Link: https://pypi.org/project/xmlschema/\n",
    "\n",
    "schema_path = 'schema.xsd'\n",
    "xml_file_path = 'questions.xml'\n",
    "\n",
    "schema = xmlschema.XMLSchema11(schema_path)\n",
    "print(schema.validate(xml_file_path))\n",
    "\n",
    "schema.to_dict(xml_file_path)\n"
   ]
  }
 ],
 "metadata": {
  "kernelspec": {
   "display_name": "Python 3",
   "language": "python",
   "name": "python3"
  },
  "language_info": {
   "codemirror_mode": {
    "name": "ipython",
    "version": 3
   },
   "file_extension": ".py",
   "mimetype": "text/x-python",
   "name": "python",
   "nbconvert_exporter": "python",
   "pygments_lexer": "ipython3",
   "version": "3.8.10"
  }
 },
 "nbformat": 4,
 "nbformat_minor": 2
}
